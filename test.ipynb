{
 "cells": [
  {
   "cell_type": "code",
   "execution_count": 32,
   "metadata": {},
   "outputs": [],
   "source": [
    "import pandas as pd\n",
    "import numpy as np\n",
    "import json\n",
    "import tensorflow as tf\n",
    "import tensorflow_hub as hub\n",
    "from keras.models import load_model"
   ]
  },
  {
   "cell_type": "code",
   "execution_count": 49,
   "metadata": {},
   "outputs": [],
   "source": [
    "f = open('./report-response-IPW6XqsRKz1trDdqrzNnD.json')\n",
    "deserialized_event = json.load(f)"
   ]
  },
  {
   "cell_type": "code",
   "execution_count": 52,
   "metadata": {},
   "outputs": [
    {
     "name": "stderr",
     "output_type": "stream",
     "text": [
      "C:\\Users\\mattr\\AppData\\Local\\Temp\\ipykernel_22740\\2750371883.py:11: VisibleDeprecationWarning: Creating an ndarray from ragged nested sequences (which is a list-or-tuple of lists-or-tuples-or ndarrays with different lengths or shapes) is deprecated. If you meant to do this, you must specify 'dtype=object' when creating the ndarray.\n",
      "  kv_column = np.array(data[i]['req'])\n",
      "c:\\Users\\mattr\\AppData\\Local\\Programs\\Python\\Python311\\Lib\\site-packages\\numpy\\lib\\shape_base.py:652: VisibleDeprecationWarning: Creating an ndarray from ragged nested sequences (which is a list-or-tuple of lists-or-tuples-or ndarrays with different lengths or shapes) is deprecated. If you meant to do this, you must specify 'dtype=object' when creating the ndarray.\n",
      "  arr = asanyarray(v)\n"
     ]
    },
    {
     "data": {
      "text/html": [
       "<div>\n",
       "<style scoped>\n",
       "    .dataframe tbody tr th:only-of-type {\n",
       "        vertical-align: middle;\n",
       "    }\n",
       "\n",
       "    .dataframe tbody tr th {\n",
       "        vertical-align: top;\n",
       "    }\n",
       "\n",
       "    .dataframe thead th {\n",
       "        text-align: right;\n",
       "    }\n",
       "</style>\n",
       "<table border=\"1\" class=\"dataframe\">\n",
       "  <thead>\n",
       "    <tr style=\"text-align: right;\">\n",
       "      <th></th>\n",
       "      <th>key</th>\n",
       "      <th>value</th>\n",
       "      <th>url</th>\n",
       "      <th>timestamp</th>\n",
       "    </tr>\n",
       "  </thead>\n",
       "  <tbody>\n",
       "    <tr>\n",
       "      <th>0</th>\n",
       "      <td>0</td>\n",
       "      <td>O43z0dpjhgX20SCx4KAo</td>\n",
       "      <td>https://jnn-pa.googleapis.com/$rpc/google.inte...</td>\n",
       "      <td>1682636558733.325</td>\n",
       "    </tr>\n",
       "    <tr>\n",
       "      <th>1</th>\n",
       "      <td>context.adSignalsInfo.params[0].key</td>\n",
       "      <td>dt</td>\n",
       "      <td>https://www.youtube.com/youtubei/v1/att/get?ke...</td>\n",
       "      <td>1682636558775.455078</td>\n",
       "    </tr>\n",
       "    <tr>\n",
       "      <th>2</th>\n",
       "      <td>context.adSignalsInfo.params[0].value</td>\n",
       "      <td>1682636557099</td>\n",
       "      <td>https://www.youtube.com/youtubei/v1/att/get?ke...</td>\n",
       "      <td>1682636558775.455078</td>\n",
       "    </tr>\n",
       "    <tr>\n",
       "      <th>3</th>\n",
       "      <td>context.adSignalsInfo.params[1].key</td>\n",
       "      <td>flash</td>\n",
       "      <td>https://www.youtube.com/youtubei/v1/att/get?ke...</td>\n",
       "      <td>1682636558775.455078</td>\n",
       "    </tr>\n",
       "    <tr>\n",
       "      <th>4</th>\n",
       "      <td>context.adSignalsInfo.params[1].value</td>\n",
       "      <td>0</td>\n",
       "      <td>https://www.youtube.com/youtubei/v1/att/get?ke...</td>\n",
       "      <td>1682636558775.455078</td>\n",
       "    </tr>\n",
       "    <tr>\n",
       "      <th>...</th>\n",
       "      <td>...</td>\n",
       "      <td>...</td>\n",
       "      <td>...</td>\n",
       "      <td>...</td>\n",
       "    </tr>\n",
       "    <tr>\n",
       "      <th>647</th>\n",
       "      <td>1.variables.channelID</td>\n",
       "      <td>557148694</td>\n",
       "      <td>https://gql.twitch.tv/gql#origin=twilight</td>\n",
       "      <td>1682636567140.09</td>\n",
       "    </tr>\n",
       "    <tr>\n",
       "      <th>648</th>\n",
       "      <td>2.extensions.persistedQuery.sha256Hash</td>\n",
       "      <td>870906a2de25d7488239dbeb947dafe3e5697f1fef2e8b...</td>\n",
       "      <td>https://gql.twitch.tv/gql#origin=twilight</td>\n",
       "      <td>1682636567140.09</td>\n",
       "    </tr>\n",
       "    <tr>\n",
       "      <th>649</th>\n",
       "      <td>2.extensions.persistedQuery.version</td>\n",
       "      <td>1</td>\n",
       "      <td>https://gql.twitch.tv/gql#origin=twilight</td>\n",
       "      <td>1682636567140.09</td>\n",
       "    </tr>\n",
       "    <tr>\n",
       "      <th>650</th>\n",
       "      <td>2.operationName</td>\n",
       "      <td>FollowButton_User</td>\n",
       "      <td>https://gql.twitch.tv/gql#origin=twilight</td>\n",
       "      <td>1682636567140.09</td>\n",
       "    </tr>\n",
       "    <tr>\n",
       "      <th>651</th>\n",
       "      <td>2.variables.login</td>\n",
       "      <td>couriway</td>\n",
       "      <td>https://gql.twitch.tv/gql#origin=twilight</td>\n",
       "      <td>1682636567140.09</td>\n",
       "    </tr>\n",
       "  </tbody>\n",
       "</table>\n",
       "<p>652 rows × 4 columns</p>\n",
       "</div>"
      ],
      "text/plain": [
       "                                        key   \n",
       "0                                         0  \\\n",
       "1       context.adSignalsInfo.params[0].key   \n",
       "2     context.adSignalsInfo.params[0].value   \n",
       "3       context.adSignalsInfo.params[1].key   \n",
       "4     context.adSignalsInfo.params[1].value   \n",
       "..                                      ...   \n",
       "647                   1.variables.channelID   \n",
       "648  2.extensions.persistedQuery.sha256Hash   \n",
       "649     2.extensions.persistedQuery.version   \n",
       "650                         2.operationName   \n",
       "651                       2.variables.login   \n",
       "\n",
       "                                                 value   \n",
       "0                                 O43z0dpjhgX20SCx4KAo  \\\n",
       "1                                                   dt   \n",
       "2                                        1682636557099   \n",
       "3                                                flash   \n",
       "4                                                    0   \n",
       "..                                                 ...   \n",
       "647                                          557148694   \n",
       "648  870906a2de25d7488239dbeb947dafe3e5697f1fef2e8b...   \n",
       "649                                                  1   \n",
       "650                                  FollowButton_User   \n",
       "651                                           couriway   \n",
       "\n",
       "                                                   url             timestamp  \n",
       "0    https://jnn-pa.googleapis.com/$rpc/google.inte...     1682636558733.325  \n",
       "1    https://www.youtube.com/youtubei/v1/att/get?ke...  1682636558775.455078  \n",
       "2    https://www.youtube.com/youtubei/v1/att/get?ke...  1682636558775.455078  \n",
       "3    https://www.youtube.com/youtubei/v1/att/get?ke...  1682636558775.455078  \n",
       "4    https://www.youtube.com/youtubei/v1/att/get?ke...  1682636558775.455078  \n",
       "..                                                 ...                   ...  \n",
       "647          https://gql.twitch.tv/gql#origin=twilight      1682636567140.09  \n",
       "648          https://gql.twitch.tv/gql#origin=twilight      1682636567140.09  \n",
       "649          https://gql.twitch.tv/gql#origin=twilight      1682636567140.09  \n",
       "650          https://gql.twitch.tv/gql#origin=twilight      1682636567140.09  \n",
       "651          https://gql.twitch.tv/gql#origin=twilight      1682636567140.09  \n",
       "\n",
       "[652 rows x 4 columns]"
      ]
     },
     "execution_count": 52,
     "metadata": {},
     "output_type": "execute_result"
    }
   ],
   "source": [
    "data = deserialized_event['data']\n",
    "  \n",
    "total_request_numpy = []\n",
    "\n",
    "for i in range(len(data)):\n",
    "    key_column = []\n",
    "    value_coulmn = []\n",
    "    for j in range(len(data[i]['req'])):\n",
    "      key_column.append(data[i]['req'][j][0])\n",
    "      value_coulmn.append(data[i]['req'][j][1])\n",
    "    kv_column = np.array(data[i]['req'])\n",
    "    url_column = np.full((kv_column.shape[0], 1), data[i]['url'])\n",
    "    timestamp_column = np.full((kv_column.shape[0], 1), data[i]['timeStamp'])\n",
    "    request_numpy = np.column_stack((key_column, value_coulmn, url_column, timestamp_column))\n",
    "    total_request_numpy.append(request_numpy)\n",
    "\n",
    "total = []\n",
    "for req in total_request_numpy:\n",
    "    for row in req:\n",
    "        total.append(row)\n",
    "\n",
    "df = pd.DataFrame(total, columns=['key', 'value', 'url', 'timestamp'])\n",
    "        \n",
    "keys = df['key'].tolist()\n",
    "df"
   ]
  },
  {
   "cell_type": "code",
   "execution_count": 35,
   "metadata": {},
   "outputs": [],
   "source": [
    "def split_word(word):\n",
    "  s = word.replace(\".\", \" \").replace(\"-\", \" \")\n",
    "  for i in range(len(s) - 1):\n",
    "    if s[i].islower() and s[i + 1].isupper():\n",
    "      s = s[0:i+1] + \" \" + s[i + 1:]\n",
    "  \n",
    "  return s.lower()"
   ]
  },
  {
   "cell_type": "code",
   "execution_count": 36,
   "metadata": {},
   "outputs": [
    {
     "data": {
      "text/plain": [
       "['operation name',\n",
       " 'query',\n",
       " 'variables is live',\n",
       " 'variables is vod',\n",
       " 'variables login',\n",
       " 'variables player type',\n",
       " 'variables vod id',\n",
       " '0 extensions persisted query sha256hash',\n",
       " '0 extensions persisted query version',\n",
       " '0 operation name',\n",
       " '0 variables include private',\n",
       " '0 variables vod id',\n",
       " '1 extensions persisted query sha256hash',\n",
       " '1 extensions persisted query version',\n",
       " '1 operation name',\n",
       " '1 variables include private',\n",
       " '1 variables video id',\n",
       " '2 extensions persisted query sha256hash',\n",
       " '2 extensions persisted query version',\n",
       " '2 operation name',\n",
       " '2 variables input owns video id',\n",
       " '3 extensions persisted query sha256hash',\n",
       " '3 extensions persisted query version',\n",
       " '3 operation name',\n",
       " '3 variables has video id',\n",
       " '3 variables video id']"
      ]
     },
     "execution_count": 36,
     "metadata": {},
     "output_type": "execute_result"
    }
   ],
   "source": [
    "keys = map(split_word, keys)\n",
    "keys = list(keys)\n",
    "keys"
   ]
  },
  {
   "cell_type": "code",
   "execution_count": 37,
   "metadata": {},
   "outputs": [
    {
     "data": {
      "text/plain": [
       "<tf.Tensor: shape=(26, 512), dtype=float32, numpy=\n",
       "array([[-0.03038407,  0.02269426, -0.03270616, ..., -0.05274822,\n",
       "         0.0301472 , -0.03571258],\n",
       "       [-0.05990529, -0.04157299,  0.06171313, ..., -0.03685904,\n",
       "         0.02025132, -0.04836494],\n",
       "       [ 0.01832912, -0.06247625, -0.08174341, ...,  0.00878124,\n",
       "         0.03856565, -0.01781394],\n",
       "       ...,\n",
       "       [-0.04853867, -0.01225588, -0.00620967, ..., -0.04599472,\n",
       "         0.01915557, -0.01555176],\n",
       "       [ 0.01596977, -0.0535123 , -0.01530978, ..., -0.02261168,\n",
       "        -0.01057775, -0.00992327],\n",
       "       [ 0.02391768, -0.03327496, -0.02885165, ..., -0.03248364,\n",
       "        -0.010353  ,  0.01494709]], dtype=float32)>"
      ]
     },
     "execution_count": 37,
     "metadata": {},
     "output_type": "execute_result"
    }
   ],
   "source": [
    "#load and embed using USE\n",
    "module = hub.load(\"https://tfhub.dev/google/universal-sentence-encoder/4\")\n",
    "\n",
    "embedded_keys = module(keys)\n",
    "embedded_keys"
   ]
  },
  {
   "cell_type": "code",
   "execution_count": 38,
   "metadata": {},
   "outputs": [],
   "source": [
    "#load multiclassifier\n",
    "model = load_model('./privacy_text_classifier.h5')"
   ]
  },
  {
   "cell_type": "code",
   "execution_count": 39,
   "metadata": {},
   "outputs": [],
   "source": [
    "def get_class(prediction):\n",
    "  i = 0\n",
    "  c = 0\n",
    "  m = 0\n",
    "  for pred in prediction:\n",
    "    if pred > m:\n",
    "        m = pred\n",
    "        c = i\n",
    "    i += 1\n",
    "  return c"
   ]
  },
  {
   "cell_type": "code",
   "execution_count": 40,
   "metadata": {},
   "outputs": [
    {
     "name": "stdout",
     "output_type": "stream",
     "text": [
      "1/1 [==============================] - 1s 1s/step\n",
      "there are 26 predictions\n",
      "[0.6234514  0.022054   0.13053253 0.10583443 0.11812761]\n"
     ]
    }
   ],
   "source": [
    "predictions = model.predict(embedded_keys)\n",
    "\n",
    "print(f\"there are {len(predictions)} predictions\")\n",
    "\n",
    "print(predictions[0])"
   ]
  },
  {
   "cell_type": "code",
   "execution_count": 41,
   "metadata": {},
   "outputs": [
    {
     "data": {
      "text/plain": [
       "[0, 4, 4, 4, 4, 4, 4, 4, 4, 0, 4, 4, 4, 4, 0, 4, 4, 4, 4, 0, 4, 4, 4, 0, 4, 4]"
      ]
     },
     "execution_count": 41,
     "metadata": {},
     "output_type": "execute_result"
    }
   ],
   "source": [
    "classes = []\n",
    "for p in predictions:\n",
    "   classes.append(get_class(p))\n",
    "\n",
    "classes"
   ]
  },
  {
   "cell_type": "code",
   "execution_count": 46,
   "metadata": {},
   "outputs": [],
   "source": [
    "kv_dict = []\n",
    "for index, row in df.iterrows():\n",
    "    kv_dict.append(\n",
    "        {\n",
    "            'key' : row['key'],\n",
    "            'value' : row['value'],\n",
    "            'prediction' : classes[index],\n",
    "            'url' : row['url'],\n",
    "            'timestamp' : row['timestamp']\n",
    "        }\n",
    "    )"
   ]
  }
 ],
 "metadata": {
  "kernelspec": {
   "display_name": "Python 3",
   "language": "python",
   "name": "python3"
  },
  "language_info": {
   "codemirror_mode": {
    "name": "ipython",
    "version": 3
   },
   "file_extension": ".py",
   "mimetype": "text/x-python",
   "name": "python",
   "nbconvert_exporter": "python",
   "pygments_lexer": "ipython3",
   "version": "3.11.2"
  },
  "orig_nbformat": 4
 },
 "nbformat": 4,
 "nbformat_minor": 2
}
